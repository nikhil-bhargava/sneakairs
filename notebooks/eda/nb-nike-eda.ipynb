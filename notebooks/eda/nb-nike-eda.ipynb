{
 "cells": [
  {
   "cell_type": "code",
   "execution_count": 2,
   "metadata": {},
   "outputs": [
    {
     "name": "stdout",
     "output_type": "stream",
     "text": [
      "<sneakairs.run.ProjectContext object at 0x1119b9ba8>\n"
     ]
    }
   ],
   "source": [
    "print(context)"
   ]
  },
  {
   "cell_type": "code",
   "execution_count": 3,
   "metadata": {},
   "outputs": [
    {
     "name": "stdout",
     "output_type": "stream",
     "text": [
      "2019-11-13 23:23:33,132 - root - INFO - ** Kedro project sneakairs\n",
      "2019-11-13 23:23:33,134 - root - INFO - Defined global variable context\n"
     ]
    }
   ],
   "source": [
    "%reload_kedro"
   ]
  },
  {
   "cell_type": "code",
   "execution_count": 4,
   "metadata": {},
   "outputs": [
    {
     "name": "stdout",
     "output_type": "stream",
     "text": [
      "2019-11-13 23:23:33,298 - kedro.io.data_catalog - INFO - Loading data from `kof_processed` (CSVLocalDataSet)...\n"
     ]
    }
   ],
   "source": [
    "df = context.io.load('kof_processed')"
   ]
  },
  {
   "cell_type": "code",
   "execution_count": 5,
   "metadata": {},
   "outputs": [],
   "source": [
    "import pandas as pd\n",
    "pd.set_option('display.max_columns', 100)\n",
    "from kedro.io import *\n",
    "import seaborn as sns\n",
    "sns.set()\n",
    "import matplotlib.pyplot as plt"
   ]
  },
  {
   "cell_type": "code",
   "execution_count": 6,
   "metadata": {},
   "outputs": [],
   "source": [
    "df['Date'] = pd.to_datetime(df.Date)"
   ]
  },
  {
   "cell_type": "code",
   "execution_count": 7,
   "metadata": {},
   "outputs": [],
   "source": [
    "df['year'] = df['Date'].apply(lambda x: x.year)\n",
    "df['month'] = df['Date'].apply(lambda x: x.month)\n",
    "df['week'] = df['Date'].apply(lambda x: x.week)\n",
    "df['day'] = df['Date'].apply(lambda x: x.day)"
   ]
  },
  {
   "cell_type": "code",
   "execution_count": 8,
   "metadata": {},
   "outputs": [],
   "source": [
    "def day_id(x):\n",
    "    if x == 'Sunday':\n",
    "        return 0\n",
    "    if x == 'Monday':\n",
    "        return 1\n",
    "    if x == 'Tuesday':\n",
    "        return 2\n",
    "    if x == 'Wednesday':\n",
    "        return 3\n",
    "    if x == 'Thursday':\n",
    "        return 4\n",
    "    if x == 'Friday':\n",
    "        return 5\n",
    "    if x == 'Saturday':\n",
    "        return 6"
   ]
  },
  {
   "cell_type": "code",
   "execution_count": 9,
   "metadata": {},
   "outputs": [],
   "source": [
    "df['month_name'] = df['Date'].apply(lambda x: x.month_name())\n",
    "df['day_name'] = df['Date'].apply(lambda x: x.day_name())\n",
    "df['day_id'] = df['day_name'].apply(lambda x: day_id(x))"
   ]
  },
  {
   "cell_type": "code",
   "execution_count": 10,
   "metadata": {},
   "outputs": [],
   "source": [
    "df = df[df['Brand']=='Nike']\n",
    "df = df.reset_index(drop=True)"
   ]
  },
  {
   "cell_type": "code",
   "execution_count": 11,
   "metadata": {
    "scrolled": true
   },
   "outputs": [
    {
     "data": {
      "text/html": [
       "<div>\n",
       "<style scoped>\n",
       "    .dataframe tbody tr th:only-of-type {\n",
       "        vertical-align: middle;\n",
       "    }\n",
       "\n",
       "    .dataframe tbody tr th {\n",
       "        vertical-align: top;\n",
       "    }\n",
       "\n",
       "    .dataframe thead th {\n",
       "        text-align: right;\n",
       "    }\n",
       "</style>\n",
       "<table border=\"1\" class=\"dataframe\">\n",
       "  <thead>\n",
       "    <tr style=\"text-align: right;\">\n",
       "      <th></th>\n",
       "      <th>Unnamed: 0</th>\n",
       "      <th>Unnamed: 0.1</th>\n",
       "      <th>Code_Style</th>\n",
       "      <th>Name</th>\n",
       "      <th>Brand</th>\n",
       "      <th>Date</th>\n",
       "      <th>Retail_Price</th>\n",
       "      <th>Colorway</th>\n",
       "      <th>Story</th>\n",
       "      <th>KOF_Wants</th>\n",
       "      <th>Avg_Resale</th>\n",
       "      <th>Net_Profit</th>\n",
       "      <th>Purchase</th>\n",
       "      <th>Brand_Code</th>\n",
       "      <th>Color_Code</th>\n",
       "      <th>Womens</th>\n",
       "      <th>bCollab</th>\n",
       "      <th>OG</th>\n",
       "      <th>SP</th>\n",
       "      <th>QS</th>\n",
       "      <th>SB</th>\n",
       "      <th>LS</th>\n",
       "      <th>NRG</th>\n",
       "      <th>PRM</th>\n",
       "      <th>NSW</th>\n",
       "      <th>RETRO</th>\n",
       "      <th>SE</th>\n",
       "      <th>PE</th>\n",
       "      <th>GS</th>\n",
       "      <th>HS</th>\n",
       "      <th>year</th>\n",
       "      <th>month</th>\n",
       "      <th>week</th>\n",
       "      <th>day</th>\n",
       "      <th>month_name</th>\n",
       "      <th>day_name</th>\n",
       "      <th>day_id</th>\n",
       "    </tr>\n",
       "  </thead>\n",
       "  <tbody>\n",
       "    <tr>\n",
       "      <td>0</td>\n",
       "      <td>0</td>\n",
       "      <td>0</td>\n",
       "      <td>314996-101</td>\n",
       "      <td>Nike Air Foamposite One Snakeskin</td>\n",
       "      <td>Nike</td>\n",
       "      <td>2019-04-15</td>\n",
       "      <td>220</td>\n",
       "      <td>Sail/Black-Habanero Red-Black</td>\n",
       "      <td>Equipped with an eye-catching upper, this Air ...</td>\n",
       "      <td>2281</td>\n",
       "      <td>305</td>\n",
       "      <td>49.545275</td>\n",
       "      <td>1</td>\n",
       "      <td>0</td>\n",
       "      <td>0</td>\n",
       "      <td>0</td>\n",
       "      <td>0</td>\n",
       "      <td>0</td>\n",
       "      <td>0</td>\n",
       "      <td>0</td>\n",
       "      <td>0</td>\n",
       "      <td>0</td>\n",
       "      <td>0</td>\n",
       "      <td>0</td>\n",
       "      <td>0</td>\n",
       "      <td>0</td>\n",
       "      <td>0</td>\n",
       "      <td>0</td>\n",
       "      <td>0</td>\n",
       "      <td>0</td>\n",
       "      <td>2019</td>\n",
       "      <td>4</td>\n",
       "      <td>16</td>\n",
       "      <td>15</td>\n",
       "      <td>April</td>\n",
       "      <td>Monday</td>\n",
       "      <td>1</td>\n",
       "    </tr>\n",
       "  </tbody>\n",
       "</table>\n",
       "</div>"
      ],
      "text/plain": [
       "   Unnamed: 0  Unnamed: 0.1  Code_Style                               Name  \\\n",
       "0           0             0  314996-101  Nike Air Foamposite One Snakeskin   \n",
       "\n",
       "  Brand       Date  Retail_Price                       Colorway  \\\n",
       "0  Nike 2019-04-15           220  Sail/Black-Habanero Red-Black   \n",
       "\n",
       "                                               Story  KOF_Wants  Avg_Resale  \\\n",
       "0  Equipped with an eye-catching upper, this Air ...       2281         305   \n",
       "\n",
       "   Net_Profit  Purchase  Brand_Code  Color_Code  Womens  bCollab  OG  SP  QS  \\\n",
       "0   49.545275         1           0           0       0        0   0   0   0   \n",
       "\n",
       "   SB  LS  NRG  PRM  NSW  RETRO  SE  PE  GS  HS  year  month  week  day  \\\n",
       "0   0   0    0    0    0      0   0   0   0   0  2019      4    16   15   \n",
       "\n",
       "  month_name day_name  day_id  \n",
       "0      April   Monday       1  "
      ]
     },
     "execution_count": 11,
     "metadata": {},
     "output_type": "execute_result"
    }
   ],
   "source": [
    "df.head(1)"
   ]
  },
  {
   "cell_type": "markdown",
   "metadata": {},
   "source": [
    "### Nike over time"
   ]
  },
  {
   "cell_type": "code",
   "execution_count": 12,
   "metadata": {},
   "outputs": [],
   "source": [
    "df = df.set_index('Date')"
   ]
  },
  {
   "cell_type": "code",
   "execution_count": 13,
   "metadata": {},
   "outputs": [],
   "source": [
    "nike = df.groupby([(df.index.year),(df.index.month)])['Name'].count()"
   ]
  },
  {
   "cell_type": "code",
   "execution_count": 14,
   "metadata": {},
   "outputs": [
    {
     "data": {
      "text/plain": [
       "<matplotlib.axes._subplots.AxesSubplot at 0x127e1ae80>"
      ]
     },
     "execution_count": 14,
     "metadata": {},
     "output_type": "execute_result"
    },
    {
     "data": {
      "image/png": "[encoded data removed]",
      "text/plain": [
       "<Figure size 432x288 with 1 Axes>"
      ]
     },
     "metadata": {
      "needs_background": "light"
     },
     "output_type": "display_data"
    }
   ],
   "source": [
    "sns.lineplot(data=nike)"
   ]
  },
  {
   "cell_type": "code",
   "execution_count": null,
   "metadata": {},
   "outputs": [],
   "source": []
  }
 ],
 "metadata": {
  "kernelspec": {
   "display_name": "Python 3",
   "language": "python",
   "name": "python3"
  },
  "language_info": {
   "codemirror_mode": {
    "name": "ipython",
    "version": 3
   },
   "file_extension": ".py",
   "mimetype": "text/x-python",
   "name": "python",
   "nbconvert_exporter": "python",
   "pygments_lexer": "ipython3",
   "version": "3.6.9"
  }
 },
 "nbformat": 4,
 "nbformat_minor": 2
}
