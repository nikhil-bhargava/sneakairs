{
 "cells": [
  {
   "cell_type": "markdown",
   "metadata": {},
   "source": [
    "# Predicting whether or not to purchase a shoe\n",
    "\n",
    "Logistic Regression model v1"
   ]
  },
  {
   "cell_type": "markdown",
   "metadata": {},
   "source": [
    "## Import Data"
   ]
  },
  {
   "cell_type": "code",
   "execution_count": 7,
   "metadata": {},
   "outputs": [],
   "source": [
    "import pandas as pd\n",
    "from\n",
    "pd.set_option('display.max_columns',50)"
   ]
  },
  {
   "cell_type": "code",
   "execution_count": 3,
   "metadata": {},
   "outputs": [],
   "source": [
    "df = pd.read_csv('KOF_04152019-model.csv')"
   ]
  },
  {
   "cell_type": "code",
   "execution_count": 11,
   "metadata": {},
   "outputs": [
    {
     "data": {
      "text/html": [
       "<div>\n",
       "<style scoped>\n",
       "    .dataframe tbody tr th:only-of-type {\n",
       "        vertical-align: middle;\n",
       "    }\n",
       "\n",
       "    .dataframe tbody tr th {\n",
       "        vertical-align: top;\n",
       "    }\n",
       "\n",
       "    .dataframe thead th {\n",
       "        text-align: right;\n",
       "    }\n",
       "</style>\n",
       "<table border=\"1\" class=\"dataframe\">\n",
       "  <thead>\n",
       "    <tr style=\"text-align: right;\">\n",
       "      <th></th>\n",
       "      <th>Unnamed: 0</th>\n",
       "      <th>Unnamed: 0.1</th>\n",
       "      <th>Code_Style</th>\n",
       "      <th>Name</th>\n",
       "      <th>Brand</th>\n",
       "      <th>Date</th>\n",
       "      <th>Retail_Price</th>\n",
       "      <th>Colorway</th>\n",
       "      <th>Story</th>\n",
       "      <th>KOF_Wants</th>\n",
       "      <th>Avg_Resale</th>\n",
       "      <th>Net_Profit</th>\n",
       "      <th>Purchase</th>\n",
       "      <th>Brand_Code</th>\n",
       "      <th>Color_Code</th>\n",
       "      <th>Womens</th>\n",
       "      <th>bCollab</th>\n",
       "      <th>OG</th>\n",
       "      <th>SP</th>\n",
       "      <th>QS</th>\n",
       "      <th>SB</th>\n",
       "      <th>LS</th>\n",
       "      <th>NRG</th>\n",
       "      <th>PRM</th>\n",
       "      <th>NSW</th>\n",
       "      <th>RETRO</th>\n",
       "      <th>SE</th>\n",
       "      <th>PE</th>\n",
       "      <th>GS</th>\n",
       "      <th>HS</th>\n",
       "    </tr>\n",
       "  </thead>\n",
       "  <tbody>\n",
       "    <tr>\n",
       "      <th>0</th>\n",
       "      <td>0</td>\n",
       "      <td>0</td>\n",
       "      <td>314996-101</td>\n",
       "      <td>Nike Air Foamposite One Snakeskin</td>\n",
       "      <td>Nike</td>\n",
       "      <td>2019-04-15</td>\n",
       "      <td>220</td>\n",
       "      <td>Sail/Black-Habanero Red-Black</td>\n",
       "      <td>Equipped with an eye-catching upper, this Air ...</td>\n",
       "      <td>2281</td>\n",
       "      <td>305</td>\n",
       "      <td>49.545275</td>\n",
       "      <td>1</td>\n",
       "      <td>0</td>\n",
       "      <td>0</td>\n",
       "      <td>0</td>\n",
       "      <td>0</td>\n",
       "      <td>0</td>\n",
       "      <td>0</td>\n",
       "      <td>0</td>\n",
       "      <td>0</td>\n",
       "      <td>0</td>\n",
       "      <td>0</td>\n",
       "      <td>0</td>\n",
       "      <td>0</td>\n",
       "      <td>0</td>\n",
       "      <td>0</td>\n",
       "      <td>0</td>\n",
       "      <td>0</td>\n",
       "      <td>0</td>\n",
       "    </tr>\n",
       "    <tr>\n",
       "      <th>1</th>\n",
       "      <td>1</td>\n",
       "      <td>1</td>\n",
       "      <td>BV4580-400</td>\n",
       "      <td>Undercover x Nike SFB Mountain Obsidian Univer...</td>\n",
       "      <td>Nike</td>\n",
       "      <td>2019-04-15</td>\n",
       "      <td>350</td>\n",
       "      <td>Obsidian/University Red-Dark Obsidian</td>\n",
       "      <td>The Undercover x Nike SFB Mountain Obsidian/Un...</td>\n",
       "      <td>37</td>\n",
       "      <td>192</td>\n",
       "      <td>-186.495960</td>\n",
       "      <td>0</td>\n",
       "      <td>0</td>\n",
       "      <td>1</td>\n",
       "      <td>0</td>\n",
       "      <td>1</td>\n",
       "      <td>0</td>\n",
       "      <td>0</td>\n",
       "      <td>0</td>\n",
       "      <td>0</td>\n",
       "      <td>0</td>\n",
       "      <td>0</td>\n",
       "      <td>0</td>\n",
       "      <td>0</td>\n",
       "      <td>0</td>\n",
       "      <td>0</td>\n",
       "      <td>0</td>\n",
       "      <td>0</td>\n",
       "      <td>0</td>\n",
       "    </tr>\n",
       "    <tr>\n",
       "      <th>2</th>\n",
       "      <td>2</td>\n",
       "      <td>2</td>\n",
       "      <td>BV4580-001</td>\n",
       "      <td>Undercover x Nike SFB Mountain Black</td>\n",
       "      <td>Nike</td>\n",
       "      <td>2019-04-15</td>\n",
       "      <td>350</td>\n",
       "      <td>Black/Sail-Black</td>\n",
       "      <td>The Undercover x Nike SFB Mountain Black is In...</td>\n",
       "      <td>70</td>\n",
       "      <td>231</td>\n",
       "      <td>-150.177405</td>\n",
       "      <td>0</td>\n",
       "      <td>0</td>\n",
       "      <td>2</td>\n",
       "      <td>0</td>\n",
       "      <td>1</td>\n",
       "      <td>0</td>\n",
       "      <td>0</td>\n",
       "      <td>0</td>\n",
       "      <td>0</td>\n",
       "      <td>0</td>\n",
       "      <td>0</td>\n",
       "      <td>0</td>\n",
       "      <td>0</td>\n",
       "      <td>0</td>\n",
       "      <td>0</td>\n",
       "      <td>0</td>\n",
       "      <td>0</td>\n",
       "      <td>0</td>\n",
       "    </tr>\n",
       "    <tr>\n",
       "      <th>3</th>\n",
       "      <td>3</td>\n",
       "      <td>3</td>\n",
       "      <td>AO2607-900</td>\n",
       "      <td>Nike PG 3 Mamba Mentality</td>\n",
       "      <td>Nike</td>\n",
       "      <td>2019-04-13</td>\n",
       "      <td>110</td>\n",
       "      <td>Multi-Color/Opti Yellow</td>\n",
       "      <td>The Nike PG 3 Mamba Mentality comes covered in...</td>\n",
       "      <td>179</td>\n",
       "      <td>109</td>\n",
       "      <td>-16.829295</td>\n",
       "      <td>0</td>\n",
       "      <td>0</td>\n",
       "      <td>3</td>\n",
       "      <td>0</td>\n",
       "      <td>0</td>\n",
       "      <td>0</td>\n",
       "      <td>0</td>\n",
       "      <td>0</td>\n",
       "      <td>0</td>\n",
       "      <td>0</td>\n",
       "      <td>0</td>\n",
       "      <td>0</td>\n",
       "      <td>0</td>\n",
       "      <td>0</td>\n",
       "      <td>0</td>\n",
       "      <td>0</td>\n",
       "      <td>0</td>\n",
       "      <td>0</td>\n",
       "    </tr>\n",
       "    <tr>\n",
       "      <th>4</th>\n",
       "      <td>4</td>\n",
       "      <td>4</td>\n",
       "      <td>AO2918-102</td>\n",
       "      <td>Nike Kyrie 5 Mamba Mentality</td>\n",
       "      <td>Nike</td>\n",
       "      <td>2019-04-13</td>\n",
       "      <td>130</td>\n",
       "      <td>White/Cyber</td>\n",
       "      <td>The Nike Kyrie 5 Mamba Mentality is a new rend...</td>\n",
       "      <td>271</td>\n",
       "      <td>107</td>\n",
       "      <td>-39.271785</td>\n",
       "      <td>0</td>\n",
       "      <td>0</td>\n",
       "      <td>4</td>\n",
       "      <td>0</td>\n",
       "      <td>0</td>\n",
       "      <td>0</td>\n",
       "      <td>0</td>\n",
       "      <td>0</td>\n",
       "      <td>0</td>\n",
       "      <td>0</td>\n",
       "      <td>0</td>\n",
       "      <td>0</td>\n",
       "      <td>0</td>\n",
       "      <td>0</td>\n",
       "      <td>0</td>\n",
       "      <td>0</td>\n",
       "      <td>0</td>\n",
       "      <td>0</td>\n",
       "    </tr>\n",
       "  </tbody>\n",
       "</table>\n",
       "</div>"
      ],
      "text/plain": [
       "   Unnamed: 0  Unnamed: 0.1  Code_Style  \\\n",
       "0           0             0  314996-101   \n",
       "1           1             1  BV4580-400   \n",
       "2           2             2  BV4580-001   \n",
       "3           3             3  AO2607-900   \n",
       "4           4             4  AO2918-102   \n",
       "\n",
       "                                                Name Brand        Date  \\\n",
       "0                  Nike Air Foamposite One Snakeskin  Nike  2019-04-15   \n",
       "1  Undercover x Nike SFB Mountain Obsidian Univer...  Nike  2019-04-15   \n",
       "2               Undercover x Nike SFB Mountain Black  Nike  2019-04-15   \n",
       "3                          Nike PG 3 Mamba Mentality  Nike  2019-04-13   \n",
       "4                       Nike Kyrie 5 Mamba Mentality  Nike  2019-04-13   \n",
       "\n",
       "   Retail_Price                               Colorway  \\\n",
       "0           220          Sail/Black-Habanero Red-Black   \n",
       "1           350  Obsidian/University Red-Dark Obsidian   \n",
       "2           350                       Black/Sail-Black   \n",
       "3           110                Multi-Color/Opti Yellow   \n",
       "4           130                            White/Cyber   \n",
       "\n",
       "                                               Story  KOF_Wants  Avg_Resale  \\\n",
       "0  Equipped with an eye-catching upper, this Air ...       2281         305   \n",
       "1  The Undercover x Nike SFB Mountain Obsidian/Un...         37         192   \n",
       "2  The Undercover x Nike SFB Mountain Black is In...         70         231   \n",
       "3  The Nike PG 3 Mamba Mentality comes covered in...        179         109   \n",
       "4  The Nike Kyrie 5 Mamba Mentality is a new rend...        271         107   \n",
       "\n",
       "   Net_Profit  Purchase  Brand_Code  Color_Code  Womens  bCollab  OG  SP  QS  \\\n",
       "0   49.545275         1           0           0       0        0   0   0   0   \n",
       "1 -186.495960         0           0           1       0        1   0   0   0   \n",
       "2 -150.177405         0           0           2       0        1   0   0   0   \n",
       "3  -16.829295         0           0           3       0        0   0   0   0   \n",
       "4  -39.271785         0           0           4       0        0   0   0   0   \n",
       "\n",
       "   SB  LS  NRG  PRM  NSW  RETRO  SE  PE  GS  HS  \n",
       "0   0   0    0    0    0      0   0   0   0   0  \n",
       "1   0   0    0    0    0      0   0   0   0   0  \n",
       "2   0   0    0    0    0      0   0   0   0   0  \n",
       "3   0   0    0    0    0      0   0   0   0   0  \n",
       "4   0   0    0    0    0      0   0   0   0   0  "
      ]
     },
     "execution_count": 11,
     "metadata": {},
     "output_type": "execute_result"
    }
   ],
   "source": [
    "df.head()"
   ]
  },
  {
   "cell_type": "code",
   "execution_count": 10,
   "metadata": {},
   "outputs": [
    {
     "data": {
      "text/plain": [
       "Index(['Unnamed: 0', 'Unnamed: 0.1', 'Code_Style', 'Name', 'Brand', 'Date',\n",
       "       'Retail_Price', 'Colorway', 'Story', 'KOF_Wants', 'Avg_Resale',\n",
       "       'Net_Profit', 'Purchase', 'Brand_Code', 'Color_Code', 'Womens',\n",
       "       'bCollab', 'OG', 'SP', 'QS', 'SB', 'LS', 'NRG', 'PRM', 'NSW', 'RETRO',\n",
       "       'SE', 'PE', 'GS', 'HS'],\n",
       "      dtype='object')"
      ]
     },
     "execution_count": 10,
     "metadata": {},
     "output_type": "execute_result"
    }
   ],
   "source": [
    "df.columns"
   ]
  },
  {
   "cell_type": "markdown",
   "metadata": {},
   "source": [
    "## Logistic Regression Model"
   ]
  },
  {
   "cell_type": "code",
   "execution_count": 14,
   "metadata": {},
   "outputs": [],
   "source": [
    "from sklearn.linear_model import LogisticRegression\n",
    "from sklearn import metrics\n",
    "from sklearn.model_selection import train_test_split"
   ]
  },
  {
   "cell_type": "code",
   "execution_count": 34,
   "metadata": {},
   "outputs": [],
   "source": [
    "X=df[['Retail_Price','KOF_Wants', 'Brand_Code', 'Color_Code', 'Womens',\n",
    "       'bCollab', 'OG', 'SP', 'QS', 'SB', 'LS', 'NRG', 'PRM', 'NSW', 'RETRO',\n",
    "       'SE', 'PE', 'GS', 'HS']]\n",
    "y=pd.Series(df.Purchase)"
   ]
  },
  {
   "cell_type": "code",
   "execution_count": 35,
   "metadata": {},
   "outputs": [
    {
     "name": "stderr",
     "output_type": "stream",
     "text": [
      "/anaconda3/lib/python3.6/site-packages/sklearn/linear_model/logistic.py:432: FutureWarning: Default solver will be changed to 'lbfgs' in 0.22. Specify a solver to silence this warning.\n",
      "  FutureWarning)\n"
     ]
    },
    {
     "data": {
      "text/plain": [
       "LogisticRegression(C=1.0, class_weight=None, dual=False, fit_intercept=True,\n",
       "          intercept_scaling=1, max_iter=100, multi_class='warn',\n",
       "          n_jobs=None, penalty='l2', random_state=None, solver='warn',\n",
       "          tol=0.0001, verbose=0, warm_start=False)"
      ]
     },
     "execution_count": 35,
     "metadata": {},
     "output_type": "execute_result"
    }
   ],
   "source": [
    "X_train, X_test, y_train, y_test = train_test_split(X, y, test_size=0.3, random_state=2)\n",
    "logreg = LogisticRegression()\n",
    "logreg.fit(X_train, y_train)"
   ]
  },
  {
   "cell_type": "code",
   "execution_count": 36,
   "metadata": {},
   "outputs": [
    {
     "name": "stdout",
     "output_type": "stream",
     "text": [
      "Accuracy of logistic regression classifier on test set: 0.83\n"
     ]
    }
   ],
   "source": [
    "y_pred = logreg.predict(X_test)\n",
    "print('Accuracy of logistic regression classifier on test set: {:.2f}'.format(logreg.score(X_test, y_test)))"
   ]
  },
  {
   "cell_type": "code",
   "execution_count": 49,
   "metadata": {},
   "outputs": [],
   "source": [
    "def read_cm(confusion_matrix):\n",
    "    top = list(confusion_matrix[0])\n",
    "    top_left = top[0]\n",
    "    top_right = top[1]\n",
    "    bottom = list(confusion_matrix[1])\n",
    "    bottom_left = bottom[0]\n",
    "    bottom_right = bottom[1]\n",
    "    print('')\n",
    "    print('Correctly predicted', top_left, 'non-purchasable shoes (0) as non-purchasable shoes (0).')\n",
    "    print('Incorrectly predicted', top_right, 'non-purchasable shoes (0) as purchasable shoes (1).')\n",
    "    print('Incorrectly predicted', bottom_left, 'purchasable shoes (1) as non-purchasable shoes (0).')\n",
    "    print('Correctly predicted', bottom_right, 'purchasable shoes (1) as purchasable shoes (1).')"
   ]
  },
  {
   "cell_type": "code",
   "execution_count": 50,
   "metadata": {},
   "outputs": [
    {
     "name": "stdout",
     "output_type": "stream",
     "text": [
      "[[1547   19]\n",
      " [ 309   27]]\n",
      "\n",
      "Correctly predicted 1547 non-purchasable shoes (0) as non-purchasable shoes (0).\n",
      "Incorrectly predicted 19 non-purchasable shoes (0) as purchasable shoes (1).\n",
      "Incorrectly predicted 309 purchasable shoes (1) as non-purchasable shoes (0).\n",
      "Correctly predicted 27 purchasable shoes (1) as purchasable shoes (1).\n"
     ]
    }
   ],
   "source": [
    "from sklearn.metrics import confusion_matrix\n",
    "confusion_matrix = confusion_matrix(y_test, y_pred)\n",
    "print(confusion_matrix)\n",
    "read_cm(confusion_matrix)"
   ]
  },
  {
   "cell_type": "code",
   "execution_count": 41,
   "metadata": {},
   "outputs": [],
   "source": []
  }
 ],
 "metadata": {
  "kernelspec": {
   "display_name": "Python 3",
   "language": "python",
   "name": "python3"
  },
  "language_info": {
   "codemirror_mode": {
    "name": "ipython",
    "version": 3
   },
   "file_extension": ".py",
   "mimetype": "text/x-python",
   "name": "python",
   "nbconvert_exporter": "python",
   "pygments_lexer": "ipython3",
   "version": "3.6.8"
  }
 },
 "nbformat": 4,
 "nbformat_minor": 2
}
