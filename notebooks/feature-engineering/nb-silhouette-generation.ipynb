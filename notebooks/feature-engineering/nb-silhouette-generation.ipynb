{
 "cells": [
  {
   "cell_type": "code",
   "execution_count": null,
   "metadata": {},
   "outputs": [],
   "source": [
    "import pandas as pd\n",
    "from nltk import word_tokenize\n",
    "import nltk\n",
    "from nltk.util import ngrams\n",
    "from collections import Counter\n",
    "import numpy as np\n",
    "from fuzzywuzzy import fuzz\n",
    "pd.set_option('display.max_columns', 100)\n",
    "pd.set_option('display.max_colwidth', 100000)\n",
    "pd.set_option('display.max_rows', 500)\n",
    "import string"
   ]
  },
  {
   "cell_type": "code",
   "execution_count": null,
   "metadata": {},
   "outputs": [],
   "source": [
    "%reload_kedro"
   ]
  },
  {
   "cell_type": "code",
   "execution_count": 5,
   "metadata": {},
   "outputs": [
    {
     "name": "stdout",
     "output_type": "stream",
     "text": [
      "2020-01-28 20:39:27,564 - kedro.io.data_catalog - INFO - Loading data from `KOF_04152019_05` (CSVLocalDataSet)...\n"
     ]
    }
   ],
   "source": [
    "df = context.io.load('KOF_04152019_05')"
   ]
  },
  {
   "cell_type": "code",
   "execution_count": 7,
   "metadata": {
    "scrolled": true
   },
   "outputs": [
    {
     "data": {
      "text/html": [
       "<div>\n",
       "<style scoped>\n",
       "    .dataframe tbody tr th:only-of-type {\n",
       "        vertical-align: middle;\n",
       "    }\n",
       "\n",
       "    .dataframe tbody tr th {\n",
       "        vertical-align: top;\n",
       "    }\n",
       "\n",
       "    .dataframe thead th {\n",
       "        text-align: right;\n",
       "    }\n",
       "</style>\n",
       "<table border=\"1\" class=\"dataframe\">\n",
       "  <thead>\n",
       "    <tr style=\"text-align: right;\">\n",
       "      <th></th>\n",
       "      <th>code_style</th>\n",
       "      <th>name</th>\n",
       "      <th>brand</th>\n",
       "      <th>date</th>\n",
       "      <th>retail_price</th>\n",
       "      <th>colorway</th>\n",
       "      <th>story</th>\n",
       "      <th>kof_wants</th>\n",
       "      <th>avg_resale_stockx</th>\n",
       "      <th>silhouette</th>\n",
       "      <th>price_diff</th>\n",
       "      <th>net_profit</th>\n",
       "      <th>profitable</th>\n",
       "      <th>brand_code</th>\n",
       "      <th>black</th>\n",
       "      <th>white</th>\n",
       "      <th>brown</th>\n",
       "      <th>red</th>\n",
       "      <th>blue</th>\n",
       "      <th>yellow</th>\n",
       "      <th>orange</th>\n",
       "      <th>green</th>\n",
       "      <th>purple</th>\n",
       "      <th>multi_color</th>\n",
       "      <th>main_color</th>\n",
       "      <th>main_color_id</th>\n",
       "      <th>womens</th>\n",
       "      <th>bcollab</th>\n",
       "      <th>og</th>\n",
       "      <th>sp</th>\n",
       "      <th>qs</th>\n",
       "      <th>sb</th>\n",
       "      <th>ls</th>\n",
       "      <th>nrg</th>\n",
       "      <th>prm</th>\n",
       "      <th>nsw</th>\n",
       "      <th>retro</th>\n",
       "      <th>se</th>\n",
       "      <th>pe</th>\n",
       "      <th>gs</th>\n",
       "      <th>hs</th>\n",
       "    </tr>\n",
       "  </thead>\n",
       "  <tbody>\n",
       "    <tr>\n",
       "      <td>0</td>\n",
       "      <td>314996-101</td>\n",
       "      <td>Nike Air Foamposite One Snakeskin</td>\n",
       "      <td>Nike</td>\n",
       "      <td>2019-04-15</td>\n",
       "      <td>220</td>\n",
       "      <td>Sail/Black-Habanero Red-Black</td>\n",
       "      <td>Equipped with an eye-catching upper, this Air Foamposite One comes covered in a black and sail snakeskin textured material with black leather detailing on the eyestay that wraps all around the ankle. Additional black detailing can be seen on the tongue, laces, and inner liner while Habanero Red lands on the varios branding throughout the shoe, running down the tongue, on the pull tabs, and lastly on the rubber outsole.</td>\n",
       "      <td>2281</td>\n",
       "      <td>305</td>\n",
       "      <td>Air Foamposite One</td>\n",
       "      <td>85</td>\n",
       "      <td>49.545275</td>\n",
       "      <td>1</td>\n",
       "      <td>6</td>\n",
       "      <td>0.864923</td>\n",
       "      <td>0.796686</td>\n",
       "      <td>0.722427</td>\n",
       "      <td>0.843831</td>\n",
       "      <td>0.758602</td>\n",
       "      <td>0.727155</td>\n",
       "      <td>0.705313</td>\n",
       "      <td>0.68003</td>\n",
       "      <td>0.700628</td>\n",
       "      <td>0.541327</td>\n",
       "      <td>black</td>\n",
       "      <td>0</td>\n",
       "      <td>0</td>\n",
       "      <td>0</td>\n",
       "      <td>0</td>\n",
       "      <td>0</td>\n",
       "      <td>0</td>\n",
       "      <td>0</td>\n",
       "      <td>0</td>\n",
       "      <td>0</td>\n",
       "      <td>0</td>\n",
       "      <td>0</td>\n",
       "      <td>0</td>\n",
       "      <td>0</td>\n",
       "      <td>0</td>\n",
       "      <td>0</td>\n",
       "      <td>0</td>\n",
       "    </tr>\n",
       "  </tbody>\n",
       "</table>\n",
       "</div>"
      ],
      "text/plain": [
       "   code_style                               name brand        date  \\\n",
       "0  314996-101  Nike Air Foamposite One Snakeskin  Nike  2019-04-15   \n",
       "\n",
       "   retail_price                       colorway  \\\n",
       "0           220  Sail/Black-Habanero Red-Black   \n",
       "\n",
       "                                                                                                                                                                                                                                                                                                                                                                                                                                    story  \\\n",
       "0  Equipped with an eye-catching upper, this Air Foamposite One comes covered in a black and sail snakeskin textured material with black leather detailing on the eyestay that wraps all around the ankle. Additional black detailing can be seen on the tongue, laces, and inner liner while Habanero Red lands on the varios branding throughout the shoe, running down the tongue, on the pull tabs, and lastly on the rubber outsole.   \n",
       "\n",
       "   kof_wants  avg_resale_stockx          silhouette  price_diff  net_profit  \\\n",
       "0       2281                305  Air Foamposite One          85   49.545275   \n",
       "\n",
       "   profitable  brand_code     black     white     brown       red      blue  \\\n",
       "0           1           6  0.864923  0.796686  0.722427  0.843831  0.758602   \n",
       "\n",
       "     yellow    orange    green    purple  multi_color main_color  \\\n",
       "0  0.727155  0.705313  0.68003  0.700628     0.541327      black   \n",
       "\n",
       "   main_color_id  womens  bcollab  og  sp  qs  sb  ls  nrg  prm  nsw  retro  \\\n",
       "0              0       0        0   0   0   0   0   0    0    0    0      0   \n",
       "\n",
       "   se  pe  gs  hs  \n",
       "0   0   0   0   0  "
      ]
     },
     "execution_count": 7,
     "metadata": {},
     "output_type": "execute_result"
    }
   ],
   "source": [
    "df.head(1)"
   ]
  },
  {
   "cell_type": "code",
   "execution_count": null,
   "metadata": {},
   "outputs": [],
   "source": [
    "len(df)"
   ]
  },
  {
   "cell_type": "markdown",
   "metadata": {},
   "source": [
    "## TF-IDF on sneaker names"
   ]
  },
  {
   "cell_type": "code",
   "execution_count": 8,
   "metadata": {},
   "outputs": [],
   "source": [
    "names = list(df.name)"
   ]
  },
  {
   "cell_type": "code",
   "execution_count": 9,
   "metadata": {},
   "outputs": [
    {
     "data": {
      "text/plain": [
       "6338"
      ]
     },
     "execution_count": 9,
     "metadata": {},
     "output_type": "execute_result"
    }
   ],
   "source": [
    "len(names)"
   ]
  },
  {
   "cell_type": "code",
   "execution_count": 10,
   "metadata": {},
   "outputs": [],
   "source": [
    "def tuple2string(tup): \n",
    "    str =  ' '.join(tup) \n",
    "    return str"
   ]
  },
  {
   "cell_type": "code",
   "execution_count": 11,
   "metadata": {},
   "outputs": [],
   "source": [
    "grams = {}\n",
    "for i in range(len(names)):\n",
    "    all_grams = []\n",
    "    for j in range(3,7):\n",
    "        shoe = names[i]\n",
    "        shoe = shoe.replace('nike ','')\n",
    "        shoe = shoe.replace(' x ', '')\n",
    "        shoe = shoe.replace('adidas', '')\n",
    "        shoe = shoe.replace('og', '')\n",
    "        shoe = shoe.replace('wmns', '')\n",
    "        shoe = shoe.replace('high', '')\n",
    "        shoe = shoe.replace('low', '')\n",
    "        shoe = shoe.replace('gs', '')\n",
    "        shoe = shoe.replace('mid', '')\n",
    "        shoe = shoe.replace('retro', '')\n",
    "        shoe = shoe.replace('footwear', '')\n",
    "        shoe = shoe.replace('black', '')\n",
    "        shoe = shoe.replace('white', '')\n",
    "        shoe = shoe.translate(str.maketrans('','',string.punctuation))\n",
    "        \n",
    "        \n",
    "        ngrams_raw = list(ngrams(shoe.split(), j))\n",
    "        ngrams_clean = [tuple2string(ngrams_raw[i]) for i in range(len(ngrams_raw))]\n",
    "        all_grams.extend(ngrams_clean)\n",
    "    grams[names[i]] = all_grams"
   ]
  },
  {
   "cell_type": "code",
   "execution_count": 12,
   "metadata": {},
   "outputs": [],
   "source": [
    "score_grams = []\n",
    "for keys in grams:\n",
    "    for j in range(len(grams[keys])):\n",
    "        score = fuzz.ratio(keys, grams[keys][j])\n",
    "        score_grams.append([keys, grams[keys][j], score])"
   ]
  },
  {
   "cell_type": "code",
   "execution_count": 13,
   "metadata": {
    "scrolled": true
   },
   "outputs": [],
   "source": [
    "silhoutte = pd.DataFrame(score_grams, columns = ['name', 'ngram', 'score'])"
   ]
  },
  {
   "cell_type": "code",
   "execution_count": 14,
   "metadata": {},
   "outputs": [
    {
     "data": {
      "text/html": [
       "<div>\n",
       "<style scoped>\n",
       "    .dataframe tbody tr th:only-of-type {\n",
       "        vertical-align: middle;\n",
       "    }\n",
       "\n",
       "    .dataframe tbody tr th {\n",
       "        vertical-align: top;\n",
       "    }\n",
       "\n",
       "    .dataframe thead th {\n",
       "        text-align: right;\n",
       "    }\n",
       "</style>\n",
       "<table border=\"1\" class=\"dataframe\">\n",
       "  <thead>\n",
       "    <tr style=\"text-align: right;\">\n",
       "      <th></th>\n",
       "      <th>name</th>\n",
       "      <th>ngram</th>\n",
       "      <th>score</th>\n",
       "    </tr>\n",
       "  </thead>\n",
       "  <tbody>\n",
       "    <tr>\n",
       "      <td>0</td>\n",
       "      <td>Nike Air Foamposite One Snakeskin</td>\n",
       "      <td>Nike Air Foamposite</td>\n",
       "      <td>73</td>\n",
       "    </tr>\n",
       "    <tr>\n",
       "      <td>1</td>\n",
       "      <td>Nike Air Foamposite One Snakeskin</td>\n",
       "      <td>Air Foamposite One</td>\n",
       "      <td>71</td>\n",
       "    </tr>\n",
       "    <tr>\n",
       "      <td>2</td>\n",
       "      <td>Nike Air Foamposite One Snakeskin</td>\n",
       "      <td>Foamposite One Snakeskin</td>\n",
       "      <td>84</td>\n",
       "    </tr>\n",
       "    <tr>\n",
       "      <td>3</td>\n",
       "      <td>Nike Air Foamposite One Snakeskin</td>\n",
       "      <td>Nike Air Foamposite One</td>\n",
       "      <td>82</td>\n",
       "    </tr>\n",
       "    <tr>\n",
       "      <td>4</td>\n",
       "      <td>Nike Air Foamposite One Snakeskin</td>\n",
       "      <td>Air Foamposite One Snakeskin</td>\n",
       "      <td>92</td>\n",
       "    </tr>\n",
       "    <tr>\n",
       "      <td>...</td>\n",
       "      <td>...</td>\n",
       "      <td>...</td>\n",
       "      <td>...</td>\n",
       "    </tr>\n",
       "    <tr>\n",
       "      <td>61808</td>\n",
       "      <td>Air Jordan 11 Concord OG (1995)</td>\n",
       "      <td>Jordan 11 Concord OG</td>\n",
       "      <td>78</td>\n",
       "    </tr>\n",
       "    <tr>\n",
       "      <td>61809</td>\n",
       "      <td>Air Jordan 11 Concord OG (1995)</td>\n",
       "      <td>11 Concord OG 1995</td>\n",
       "      <td>73</td>\n",
       "    </tr>\n",
       "    <tr>\n",
       "      <td>61810</td>\n",
       "      <td>Air Jordan 11 Concord OG (1995)</td>\n",
       "      <td>Air Jordan 11 Concord OG</td>\n",
       "      <td>87</td>\n",
       "    </tr>\n",
       "    <tr>\n",
       "      <td>61811</td>\n",
       "      <td>Air Jordan 11 Concord OG (1995)</td>\n",
       "      <td>Jordan 11 Concord OG 1995</td>\n",
       "      <td>89</td>\n",
       "    </tr>\n",
       "    <tr>\n",
       "      <td>61812</td>\n",
       "      <td>Air Jordan 11 Concord OG (1995)</td>\n",
       "      <td>Air Jordan 11 Concord OG 1995</td>\n",
       "      <td>97</td>\n",
       "    </tr>\n",
       "  </tbody>\n",
       "</table>\n",
       "<p>61813 rows × 3 columns</p>\n",
       "</div>"
      ],
      "text/plain": [
       "                                    name                          ngram  score\n",
       "0      Nike Air Foamposite One Snakeskin            Nike Air Foamposite     73\n",
       "1      Nike Air Foamposite One Snakeskin             Air Foamposite One     71\n",
       "2      Nike Air Foamposite One Snakeskin       Foamposite One Snakeskin     84\n",
       "3      Nike Air Foamposite One Snakeskin        Nike Air Foamposite One     82\n",
       "4      Nike Air Foamposite One Snakeskin   Air Foamposite One Snakeskin     92\n",
       "...                                  ...                            ...    ...\n",
       "61808    Air Jordan 11 Concord OG (1995)           Jordan 11 Concord OG     78\n",
       "61809    Air Jordan 11 Concord OG (1995)             11 Concord OG 1995     73\n",
       "61810    Air Jordan 11 Concord OG (1995)       Air Jordan 11 Concord OG     87\n",
       "61811    Air Jordan 11 Concord OG (1995)      Jordan 11 Concord OG 1995     89\n",
       "61812    Air Jordan 11 Concord OG (1995)  Air Jordan 11 Concord OG 1995     97\n",
       "\n",
       "[61813 rows x 3 columns]"
      ]
     },
     "execution_count": 14,
     "metadata": {},
     "output_type": "execute_result"
    }
   ],
   "source": [
    "silhoutte"
   ]
  },
  {
   "cell_type": "code",
   "execution_count": 15,
   "metadata": {},
   "outputs": [],
   "source": [
    "avg_ngram_scores = silhoutte.groupby(['ngram'])['score'].mean().reset_index(name='avg_score')\n",
    "num_ngrams = silhoutte.groupby(['ngram'])['score'].count().reset_index(name='total')"
   ]
  },
  {
   "cell_type": "code",
   "execution_count": 16,
   "metadata": {},
   "outputs": [],
   "source": [
    "silhoutte = pd.merge(silhoutte, num_ngrams, how='left', on='ngram')"
   ]
  },
  {
   "cell_type": "code",
   "execution_count": 17,
   "metadata": {},
   "outputs": [],
   "source": [
    "silhoutte = pd.merge(silhoutte, avg_ngram_scores, how='left', on='ngram')"
   ]
  },
  {
   "cell_type": "code",
   "execution_count": null,
   "metadata": {},
   "outputs": [],
   "source": [
    "silhoutte = silhoutte[silhoutte['total'] > 1]\n",
    "silhoutte = silhoutte.drop(columns=['score'])"
   ]
  },
  {
   "cell_type": "code",
   "execution_count": null,
   "metadata": {},
   "outputs": [],
   "source": [
    "silhoutte = silhoutte[silhoutte.avg_score<silhoutte.groupby('name').avg_score.transform('quantile',0.95)]\n",
    "silhoutte = silhoutte[silhoutte.avg_score>silhoutte.groupby('name').avg_score.transform('quantile',0.01)]"
   ]
  },
  {
   "cell_type": "code",
   "execution_count": null,
   "metadata": {},
   "outputs": [],
   "source": [
    "# silhoutte = silhoutte[silhoutte.total<silhoutte.groupby('name').total.transform('quantile',0.99)]\n",
    "# silhoutte = silhoutte[silhoutte.total>silhoutte.groupby('name').total.transform('quantile',0.01)]"
   ]
  },
  {
   "cell_type": "code",
   "execution_count": null,
   "metadata": {},
   "outputs": [],
   "source": [
    "silhoutte = silhoutte.sort_values(['total', 'avg_score'], ascending=False).drop_duplicates(['name'])\n"
   ]
  },
  {
   "cell_type": "code",
   "execution_count": null,
   "metadata": {},
   "outputs": [],
   "source": [
    "silhoutte.head(500)"
   ]
  },
  {
   "cell_type": "code",
   "execution_count": null,
   "metadata": {},
   "outputs": [],
   "source": [
    "silhoutte = silhoutte.rename(columns={'ngram':'silhoutte'})\n",
    "merge_silhoutte = silhoutte[['name','silhoutte', 'avg_score']]"
   ]
  },
  {
   "cell_type": "code",
   "execution_count": null,
   "metadata": {},
   "outputs": [],
   "source": [
    "df_silhouttes = pd.merge(df, merge_silhoutte, how='left', on='name')"
   ]
  },
  {
   "cell_type": "code",
   "execution_count": null,
   "metadata": {},
   "outputs": [],
   "source": [
    "df_silhouttes.to_csv('/Users/nikhilbhargava/Documents/sneakairs/data/07_model_output/silhoutte-active-learning.csv', index=False)"
   ]
  },
  {
   "cell_type": "code",
   "execution_count": null,
   "metadata": {},
   "outputs": [],
   "source": []
  }
 ],
 "metadata": {
  "kernelspec": {
   "display_name": "Python 3",
   "language": "python",
   "name": "python3"
  },
  "language_info": {
   "codemirror_mode": {
    "name": "ipython",
    "version": 3
   },
   "file_extension": ".py",
   "mimetype": "text/x-python",
   "name": "python",
   "nbconvert_exporter": "python",
   "pygments_lexer": "ipython3",
   "version": "3.6.9"
  }
 },
 "nbformat": 4,
 "nbformat_minor": 2
}
