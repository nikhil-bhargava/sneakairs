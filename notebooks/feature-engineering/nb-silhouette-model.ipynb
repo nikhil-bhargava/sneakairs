{
 "cells": [
  {
   "cell_type": "code",
   "execution_count": 1,
   "metadata": {},
   "outputs": [],
   "source": [
    "import pandas as pd\n",
    "from nltk import word_tokenize\n",
    "import nltk\n",
    "from nltk.util import ngrams\n",
    "from collections import Counter\n",
    "import numpy as np\n",
    "from fuzzywuzzy import fuzz\n",
    "# pd.set_option('display.max_columns', 100)\n",
    "# pd.set_option('display.max_colwidth', 100000)\n",
    "# pd.set_option('display.max_rows', 500)\n",
    "import string"
   ]
  },
  {
   "cell_type": "code",
   "execution_count": 2,
   "metadata": {},
   "outputs": [
    {
     "name": "stdout",
     "output_type": "stream",
     "text": [
      "2020-01-28 23:13:33,486 - root - INFO - ** Kedro project sneakairs\n",
      "2020-01-28 23:13:33,487 - root - INFO - Defined global variable context\n"
     ]
    }
   ],
   "source": [
    "%reload_kedro"
   ]
  },
  {
   "cell_type": "code",
   "execution_count": 3,
   "metadata": {},
   "outputs": [
    {
     "name": "stdout",
     "output_type": "stream",
     "text": [
      "2020-01-28 23:13:33,515 - kedro.io.data_catalog - INFO - Loading data from `KOF_04152019_05` (CSVLocalDataSet)...\n"
     ]
    }
   ],
   "source": [
    "df = context.io.load('KOF_04152019_05')"
   ]
  },
  {
   "cell_type": "code",
   "execution_count": 4,
   "metadata": {
    "scrolled": true
   },
   "outputs": [
    {
     "data": {
      "text/html": [
       "<div>\n",
       "<style scoped>\n",
       "    .dataframe tbody tr th:only-of-type {\n",
       "        vertical-align: middle;\n",
       "    }\n",
       "\n",
       "    .dataframe tbody tr th {\n",
       "        vertical-align: top;\n",
       "    }\n",
       "\n",
       "    .dataframe thead th {\n",
       "        text-align: right;\n",
       "    }\n",
       "</style>\n",
       "<table border=\"1\" class=\"dataframe\">\n",
       "  <thead>\n",
       "    <tr style=\"text-align: right;\">\n",
       "      <th></th>\n",
       "      <th>code_style</th>\n",
       "      <th>name</th>\n",
       "      <th>brand</th>\n",
       "      <th>date</th>\n",
       "      <th>retail_price</th>\n",
       "      <th>colorway</th>\n",
       "      <th>story</th>\n",
       "      <th>kof_wants</th>\n",
       "      <th>avg_resale_stockx</th>\n",
       "      <th>silhouette</th>\n",
       "      <th>...</th>\n",
       "      <th>sb</th>\n",
       "      <th>ls</th>\n",
       "      <th>nrg</th>\n",
       "      <th>prm</th>\n",
       "      <th>nsw</th>\n",
       "      <th>retro</th>\n",
       "      <th>se</th>\n",
       "      <th>pe</th>\n",
       "      <th>gs</th>\n",
       "      <th>hs</th>\n",
       "    </tr>\n",
       "  </thead>\n",
       "  <tbody>\n",
       "    <tr>\n",
       "      <td>0</td>\n",
       "      <td>314996-101</td>\n",
       "      <td>Nike Air Foamposite One Snakeskin</td>\n",
       "      <td>Nike</td>\n",
       "      <td>2019-04-15</td>\n",
       "      <td>220</td>\n",
       "      <td>Sail/Black-Habanero Red-Black</td>\n",
       "      <td>Equipped with an eye-catching upper, this Air ...</td>\n",
       "      <td>2281</td>\n",
       "      <td>305</td>\n",
       "      <td>Air Foamposite One</td>\n",
       "      <td>...</td>\n",
       "      <td>0</td>\n",
       "      <td>0</td>\n",
       "      <td>0</td>\n",
       "      <td>0</td>\n",
       "      <td>0</td>\n",
       "      <td>0</td>\n",
       "      <td>0</td>\n",
       "      <td>0</td>\n",
       "      <td>0</td>\n",
       "      <td>0</td>\n",
       "    </tr>\n",
       "  </tbody>\n",
       "</table>\n",
       "<p>1 rows × 41 columns</p>\n",
       "</div>"
      ],
      "text/plain": [
       "   code_style                               name brand        date  \\\n",
       "0  314996-101  Nike Air Foamposite One Snakeskin  Nike  2019-04-15   \n",
       "\n",
       "   retail_price                       colorway  \\\n",
       "0           220  Sail/Black-Habanero Red-Black   \n",
       "\n",
       "                                               story  kof_wants  \\\n",
       "0  Equipped with an eye-catching upper, this Air ...       2281   \n",
       "\n",
       "   avg_resale_stockx          silhouette  ...  sb  ls  nrg  prm  nsw  retro  \\\n",
       "0                305  Air Foamposite One  ...   0   0    0    0    0      0   \n",
       "\n",
       "   se  pe  gs  hs  \n",
       "0   0   0   0   0  \n",
       "\n",
       "[1 rows x 41 columns]"
      ]
     },
     "execution_count": 4,
     "metadata": {},
     "output_type": "execute_result"
    }
   ],
   "source": [
    "df.head(1)"
   ]
  },
  {
   "cell_type": "code",
   "execution_count": 5,
   "metadata": {},
   "outputs": [
    {
     "data": {
      "text/plain": [
       "6338"
      ]
     },
     "execution_count": 5,
     "metadata": {},
     "output_type": "execute_result"
    }
   ],
   "source": [
    "len(df)"
   ]
  },
  {
   "cell_type": "markdown",
   "metadata": {},
   "source": [
    "## TF-IDF on sneaker names"
   ]
  },
  {
   "cell_type": "code",
   "execution_count": 6,
   "metadata": {},
   "outputs": [],
   "source": [
    "names = list(df.name)"
   ]
  },
  {
   "cell_type": "code",
   "execution_count": 7,
   "metadata": {},
   "outputs": [
    {
     "data": {
      "text/plain": [
       "6338"
      ]
     },
     "execution_count": 7,
     "metadata": {},
     "output_type": "execute_result"
    }
   ],
   "source": [
    "len(names)"
   ]
  },
  {
   "cell_type": "code",
   "execution_count": 8,
   "metadata": {},
   "outputs": [],
   "source": [
    "def tuple2string(tup): \n",
    "    str =  ' '.join(tup) \n",
    "    return str"
   ]
  },
  {
   "cell_type": "code",
   "execution_count": 9,
   "metadata": {},
   "outputs": [],
   "source": [
    "grams = {}\n",
    "for i in range(len(names)):\n",
    "    all_grams = []\n",
    "    for j in range(3,7):\n",
    "        shoe = names[i]\n",
    "        shoe = shoe.replace('nike ','')\n",
    "        shoe = shoe.replace(' x ', '')\n",
    "        shoe = shoe.replace('adidas', '')\n",
    "        shoe = shoe.replace('og', '')\n",
    "        shoe = shoe.replace('wmns', '')\n",
    "        shoe = shoe.replace('high', '')\n",
    "        shoe = shoe.replace('low', '')\n",
    "        shoe = shoe.replace('gs', '')\n",
    "        shoe = shoe.replace('mid', '')\n",
    "        shoe = shoe.replace('retro', '')\n",
    "        shoe = shoe.replace('footwear', '')\n",
    "        shoe = shoe.replace('black', '')\n",
    "        shoe = shoe.replace('white', '')\n",
    "        shoe = shoe.translate(str.maketrans('','',string.punctuation))\n",
    "        \n",
    "        \n",
    "        ngrams_raw = list(ngrams(shoe.split(), j))\n",
    "        ngrams_clean = [tuple2string(ngrams_raw[i]) for i in range(len(ngrams_raw))]\n",
    "        all_grams.extend(ngrams_clean)\n",
    "    grams[names[i]] = all_grams"
   ]
  },
  {
   "cell_type": "code",
   "execution_count": 10,
   "metadata": {},
   "outputs": [],
   "source": [
    "score_grams = []\n",
    "for keys in grams:\n",
    "    for j in range(len(grams[keys])):\n",
    "        score = fuzz.ratio(keys, grams[keys][j])\n",
    "        score_grams.append([keys, grams[keys][j], score])"
   ]
  },
  {
   "cell_type": "code",
   "execution_count": 11,
   "metadata": {
    "scrolled": true
   },
   "outputs": [],
   "source": [
    "silhouette = pd.DataFrame(score_grams, columns = ['name', 'ngram', 'score'])"
   ]
  },
  {
   "cell_type": "code",
   "execution_count": 12,
   "metadata": {},
   "outputs": [
    {
     "data": {
      "text/html": [
       "<div>\n",
       "<style scoped>\n",
       "    .dataframe tbody tr th:only-of-type {\n",
       "        vertical-align: middle;\n",
       "    }\n",
       "\n",
       "    .dataframe tbody tr th {\n",
       "        vertical-align: top;\n",
       "    }\n",
       "\n",
       "    .dataframe thead th {\n",
       "        text-align: right;\n",
       "    }\n",
       "</style>\n",
       "<table border=\"1\" class=\"dataframe\">\n",
       "  <thead>\n",
       "    <tr style=\"text-align: right;\">\n",
       "      <th></th>\n",
       "      <th>name</th>\n",
       "      <th>ngram</th>\n",
       "      <th>score</th>\n",
       "    </tr>\n",
       "  </thead>\n",
       "  <tbody>\n",
       "    <tr>\n",
       "      <td>0</td>\n",
       "      <td>Nike Air Foamposite One Snakeskin</td>\n",
       "      <td>Nike Air Foamposite</td>\n",
       "      <td>73</td>\n",
       "    </tr>\n",
       "    <tr>\n",
       "      <td>1</td>\n",
       "      <td>Nike Air Foamposite One Snakeskin</td>\n",
       "      <td>Air Foamposite One</td>\n",
       "      <td>71</td>\n",
       "    </tr>\n",
       "    <tr>\n",
       "      <td>2</td>\n",
       "      <td>Nike Air Foamposite One Snakeskin</td>\n",
       "      <td>Foamposite One Snakeskin</td>\n",
       "      <td>84</td>\n",
       "    </tr>\n",
       "    <tr>\n",
       "      <td>3</td>\n",
       "      <td>Nike Air Foamposite One Snakeskin</td>\n",
       "      <td>Nike Air Foamposite One</td>\n",
       "      <td>82</td>\n",
       "    </tr>\n",
       "    <tr>\n",
       "      <td>4</td>\n",
       "      <td>Nike Air Foamposite One Snakeskin</td>\n",
       "      <td>Air Foamposite One Snakeskin</td>\n",
       "      <td>92</td>\n",
       "    </tr>\n",
       "    <tr>\n",
       "      <td>...</td>\n",
       "      <td>...</td>\n",
       "      <td>...</td>\n",
       "      <td>...</td>\n",
       "    </tr>\n",
       "    <tr>\n",
       "      <td>61808</td>\n",
       "      <td>Air Jordan 11 Concord OG (1995)</td>\n",
       "      <td>Jordan 11 Concord OG</td>\n",
       "      <td>78</td>\n",
       "    </tr>\n",
       "    <tr>\n",
       "      <td>61809</td>\n",
       "      <td>Air Jordan 11 Concord OG (1995)</td>\n",
       "      <td>11 Concord OG 1995</td>\n",
       "      <td>73</td>\n",
       "    </tr>\n",
       "    <tr>\n",
       "      <td>61810</td>\n",
       "      <td>Air Jordan 11 Concord OG (1995)</td>\n",
       "      <td>Air Jordan 11 Concord OG</td>\n",
       "      <td>87</td>\n",
       "    </tr>\n",
       "    <tr>\n",
       "      <td>61811</td>\n",
       "      <td>Air Jordan 11 Concord OG (1995)</td>\n",
       "      <td>Jordan 11 Concord OG 1995</td>\n",
       "      <td>89</td>\n",
       "    </tr>\n",
       "    <tr>\n",
       "      <td>61812</td>\n",
       "      <td>Air Jordan 11 Concord OG (1995)</td>\n",
       "      <td>Air Jordan 11 Concord OG 1995</td>\n",
       "      <td>97</td>\n",
       "    </tr>\n",
       "  </tbody>\n",
       "</table>\n",
       "<p>61813 rows × 3 columns</p>\n",
       "</div>"
      ],
      "text/plain": [
       "                                    name                          ngram  score\n",
       "0      Nike Air Foamposite One Snakeskin            Nike Air Foamposite     73\n",
       "1      Nike Air Foamposite One Snakeskin             Air Foamposite One     71\n",
       "2      Nike Air Foamposite One Snakeskin       Foamposite One Snakeskin     84\n",
       "3      Nike Air Foamposite One Snakeskin        Nike Air Foamposite One     82\n",
       "4      Nike Air Foamposite One Snakeskin   Air Foamposite One Snakeskin     92\n",
       "...                                  ...                            ...    ...\n",
       "61808    Air Jordan 11 Concord OG (1995)           Jordan 11 Concord OG     78\n",
       "61809    Air Jordan 11 Concord OG (1995)             11 Concord OG 1995     73\n",
       "61810    Air Jordan 11 Concord OG (1995)       Air Jordan 11 Concord OG     87\n",
       "61811    Air Jordan 11 Concord OG (1995)      Jordan 11 Concord OG 1995     89\n",
       "61812    Air Jordan 11 Concord OG (1995)  Air Jordan 11 Concord OG 1995     97\n",
       "\n",
       "[61813 rows x 3 columns]"
      ]
     },
     "execution_count": 12,
     "metadata": {},
     "output_type": "execute_result"
    }
   ],
   "source": [
    "silhouette"
   ]
  },
  {
   "cell_type": "code",
   "execution_count": 13,
   "metadata": {},
   "outputs": [],
   "source": [
    "avg_ngram_scores = silhouette.groupby(['ngram'])['score'].mean().reset_index(name='avg_score')\n",
    "num_ngrams = silhouette.groupby(['ngram'])['score'].count().reset_index(name='total')"
   ]
  },
  {
   "cell_type": "code",
   "execution_count": 14,
   "metadata": {},
   "outputs": [],
   "source": [
    "silhouette = pd.merge(silhouette, num_ngrams, how='left', on='ngram')"
   ]
  },
  {
   "cell_type": "code",
   "execution_count": 15,
   "metadata": {},
   "outputs": [],
   "source": [
    "silhouette = pd.merge(silhouette, avg_ngram_scores, how='left', on='ngram')"
   ]
  },
  {
   "cell_type": "code",
   "execution_count": 16,
   "metadata": {},
   "outputs": [
    {
     "data": {
      "text/html": [
       "<div>\n",
       "<style scoped>\n",
       "    .dataframe tbody tr th:only-of-type {\n",
       "        vertical-align: middle;\n",
       "    }\n",
       "\n",
       "    .dataframe tbody tr th {\n",
       "        vertical-align: top;\n",
       "    }\n",
       "\n",
       "    .dataframe thead th {\n",
       "        text-align: right;\n",
       "    }\n",
       "</style>\n",
       "<table border=\"1\" class=\"dataframe\">\n",
       "  <thead>\n",
       "    <tr style=\"text-align: right;\">\n",
       "      <th></th>\n",
       "      <th>name</th>\n",
       "      <th>ngram</th>\n",
       "      <th>score</th>\n",
       "      <th>total</th>\n",
       "      <th>avg_score</th>\n",
       "    </tr>\n",
       "  </thead>\n",
       "  <tbody>\n",
       "    <tr>\n",
       "      <td>0</td>\n",
       "      <td>Nike Air Foamposite One Snakeskin</td>\n",
       "      <td>Nike Air Foamposite</td>\n",
       "      <td>73</td>\n",
       "      <td>59</td>\n",
       "      <td>69.711864</td>\n",
       "    </tr>\n",
       "    <tr>\n",
       "      <td>1</td>\n",
       "      <td>Nike Air Foamposite One Snakeskin</td>\n",
       "      <td>Air Foamposite One</td>\n",
       "      <td>71</td>\n",
       "      <td>38</td>\n",
       "      <td>67.394737</td>\n",
       "    </tr>\n",
       "    <tr>\n",
       "      <td>2</td>\n",
       "      <td>Nike Air Foamposite One Snakeskin</td>\n",
       "      <td>Foamposite One Snakeskin</td>\n",
       "      <td>84</td>\n",
       "      <td>1</td>\n",
       "      <td>84.000000</td>\n",
       "    </tr>\n",
       "    <tr>\n",
       "      <td>3</td>\n",
       "      <td>Nike Air Foamposite One Snakeskin</td>\n",
       "      <td>Nike Air Foamposite One</td>\n",
       "      <td>82</td>\n",
       "      <td>32</td>\n",
       "      <td>79.156250</td>\n",
       "    </tr>\n",
       "    <tr>\n",
       "      <td>4</td>\n",
       "      <td>Nike Air Foamposite One Snakeskin</td>\n",
       "      <td>Air Foamposite One Snakeskin</td>\n",
       "      <td>92</td>\n",
       "      <td>1</td>\n",
       "      <td>92.000000</td>\n",
       "    </tr>\n",
       "    <tr>\n",
       "      <td>...</td>\n",
       "      <td>...</td>\n",
       "      <td>...</td>\n",
       "      <td>...</td>\n",
       "      <td>...</td>\n",
       "      <td>...</td>\n",
       "    </tr>\n",
       "    <tr>\n",
       "      <td>495</td>\n",
       "      <td>adidas NMD R1 Red Black Speckle</td>\n",
       "      <td>NMD R1 Red Black Speckle</td>\n",
       "      <td>87</td>\n",
       "      <td>1</td>\n",
       "      <td>87.000000</td>\n",
       "    </tr>\n",
       "    <tr>\n",
       "      <td>496</td>\n",
       "      <td>Nike Tailwind Team Orange Tour Yellow</td>\n",
       "      <td>Nike Tailwind Team</td>\n",
       "      <td>65</td>\n",
       "      <td>1</td>\n",
       "      <td>65.000000</td>\n",
       "    </tr>\n",
       "    <tr>\n",
       "      <td>497</td>\n",
       "      <td>Nike Tailwind Team Orange Tour Yellow</td>\n",
       "      <td>Tailwind Team Orange</td>\n",
       "      <td>70</td>\n",
       "      <td>1</td>\n",
       "      <td>70.000000</td>\n",
       "    </tr>\n",
       "    <tr>\n",
       "      <td>498</td>\n",
       "      <td>Nike Tailwind Team Orange Tour Yellow</td>\n",
       "      <td>Team Orange Tour</td>\n",
       "      <td>60</td>\n",
       "      <td>1</td>\n",
       "      <td>60.000000</td>\n",
       "    </tr>\n",
       "    <tr>\n",
       "      <td>499</td>\n",
       "      <td>Nike Tailwind Team Orange Tour Yellow</td>\n",
       "      <td>Orange Tour Yel</td>\n",
       "      <td>58</td>\n",
       "      <td>1</td>\n",
       "      <td>58.000000</td>\n",
       "    </tr>\n",
       "  </tbody>\n",
       "</table>\n",
       "<p>500 rows × 5 columns</p>\n",
       "</div>"
      ],
      "text/plain": [
       "                                      name                         ngram  \\\n",
       "0        Nike Air Foamposite One Snakeskin           Nike Air Foamposite   \n",
       "1        Nike Air Foamposite One Snakeskin            Air Foamposite One   \n",
       "2        Nike Air Foamposite One Snakeskin      Foamposite One Snakeskin   \n",
       "3        Nike Air Foamposite One Snakeskin       Nike Air Foamposite One   \n",
       "4        Nike Air Foamposite One Snakeskin  Air Foamposite One Snakeskin   \n",
       "..                                     ...                           ...   \n",
       "495        adidas NMD R1 Red Black Speckle      NMD R1 Red Black Speckle   \n",
       "496  Nike Tailwind Team Orange Tour Yellow            Nike Tailwind Team   \n",
       "497  Nike Tailwind Team Orange Tour Yellow          Tailwind Team Orange   \n",
       "498  Nike Tailwind Team Orange Tour Yellow              Team Orange Tour   \n",
       "499  Nike Tailwind Team Orange Tour Yellow               Orange Tour Yel   \n",
       "\n",
       "     score  total  avg_score  \n",
       "0       73     59  69.711864  \n",
       "1       71     38  67.394737  \n",
       "2       84      1  84.000000  \n",
       "3       82     32  79.156250  \n",
       "4       92      1  92.000000  \n",
       "..     ...    ...        ...  \n",
       "495     87      1  87.000000  \n",
       "496     65      1  65.000000  \n",
       "497     70      1  70.000000  \n",
       "498     60      1  60.000000  \n",
       "499     58      1  58.000000  \n",
       "\n",
       "[500 rows x 5 columns]"
      ]
     },
     "execution_count": 16,
     "metadata": {},
     "output_type": "execute_result"
    }
   ],
   "source": [
    "silhouette.head(500)"
   ]
  },
  {
   "cell_type": "code",
   "execution_count": 17,
   "metadata": {},
   "outputs": [],
   "source": [
    "df = pd.merge(df, silhouette, how='left', on='name')"
   ]
  },
  {
   "cell_type": "code",
   "execution_count": 18,
   "metadata": {
    "scrolled": true
   },
   "outputs": [
    {
     "data": {
      "text/html": [
       "<div>\n",
       "<style scoped>\n",
       "    .dataframe tbody tr th:only-of-type {\n",
       "        vertical-align: middle;\n",
       "    }\n",
       "\n",
       "    .dataframe tbody tr th {\n",
       "        vertical-align: top;\n",
       "    }\n",
       "\n",
       "    .dataframe thead th {\n",
       "        text-align: right;\n",
       "    }\n",
       "</style>\n",
       "<table border=\"1\" class=\"dataframe\">\n",
       "  <thead>\n",
       "    <tr style=\"text-align: right;\">\n",
       "      <th></th>\n",
       "      <th>code_style</th>\n",
       "      <th>name</th>\n",
       "      <th>brand</th>\n",
       "      <th>date</th>\n",
       "      <th>retail_price</th>\n",
       "      <th>colorway</th>\n",
       "      <th>story</th>\n",
       "      <th>kof_wants</th>\n",
       "      <th>avg_resale_stockx</th>\n",
       "      <th>silhouette</th>\n",
       "      <th>...</th>\n",
       "      <th>nsw</th>\n",
       "      <th>retro</th>\n",
       "      <th>se</th>\n",
       "      <th>pe</th>\n",
       "      <th>gs</th>\n",
       "      <th>hs</th>\n",
       "      <th>ngram</th>\n",
       "      <th>score</th>\n",
       "      <th>total</th>\n",
       "      <th>avg_score</th>\n",
       "    </tr>\n",
       "  </thead>\n",
       "  <tbody>\n",
       "    <tr>\n",
       "      <td>0</td>\n",
       "      <td>314996-101</td>\n",
       "      <td>Nike Air Foamposite One Snakeskin</td>\n",
       "      <td>Nike</td>\n",
       "      <td>2019-04-15</td>\n",
       "      <td>220</td>\n",
       "      <td>Sail/Black-Habanero Red-Black</td>\n",
       "      <td>Equipped with an eye-catching upper, this Air ...</td>\n",
       "      <td>2281</td>\n",
       "      <td>305</td>\n",
       "      <td>Air Foamposite One</td>\n",
       "      <td>...</td>\n",
       "      <td>0</td>\n",
       "      <td>0</td>\n",
       "      <td>0</td>\n",
       "      <td>0</td>\n",
       "      <td>0</td>\n",
       "      <td>0</td>\n",
       "      <td>Nike Air Foamposite</td>\n",
       "      <td>73.0</td>\n",
       "      <td>59.0</td>\n",
       "      <td>69.711864</td>\n",
       "    </tr>\n",
       "    <tr>\n",
       "      <td>1</td>\n",
       "      <td>314996-101</td>\n",
       "      <td>Nike Air Foamposite One Snakeskin</td>\n",
       "      <td>Nike</td>\n",
       "      <td>2019-04-15</td>\n",
       "      <td>220</td>\n",
       "      <td>Sail/Black-Habanero Red-Black</td>\n",
       "      <td>Equipped with an eye-catching upper, this Air ...</td>\n",
       "      <td>2281</td>\n",
       "      <td>305</td>\n",
       "      <td>Air Foamposite One</td>\n",
       "      <td>...</td>\n",
       "      <td>0</td>\n",
       "      <td>0</td>\n",
       "      <td>0</td>\n",
       "      <td>0</td>\n",
       "      <td>0</td>\n",
       "      <td>0</td>\n",
       "      <td>Air Foamposite One</td>\n",
       "      <td>71.0</td>\n",
       "      <td>38.0</td>\n",
       "      <td>67.394737</td>\n",
       "    </tr>\n",
       "    <tr>\n",
       "      <td>2</td>\n",
       "      <td>314996-101</td>\n",
       "      <td>Nike Air Foamposite One Snakeskin</td>\n",
       "      <td>Nike</td>\n",
       "      <td>2019-04-15</td>\n",
       "      <td>220</td>\n",
       "      <td>Sail/Black-Habanero Red-Black</td>\n",
       "      <td>Equipped with an eye-catching upper, this Air ...</td>\n",
       "      <td>2281</td>\n",
       "      <td>305</td>\n",
       "      <td>Air Foamposite One</td>\n",
       "      <td>...</td>\n",
       "      <td>0</td>\n",
       "      <td>0</td>\n",
       "      <td>0</td>\n",
       "      <td>0</td>\n",
       "      <td>0</td>\n",
       "      <td>0</td>\n",
       "      <td>Foamposite One Snakeskin</td>\n",
       "      <td>84.0</td>\n",
       "      <td>1.0</td>\n",
       "      <td>84.000000</td>\n",
       "    </tr>\n",
       "    <tr>\n",
       "      <td>3</td>\n",
       "      <td>314996-101</td>\n",
       "      <td>Nike Air Foamposite One Snakeskin</td>\n",
       "      <td>Nike</td>\n",
       "      <td>2019-04-15</td>\n",
       "      <td>220</td>\n",
       "      <td>Sail/Black-Habanero Red-Black</td>\n",
       "      <td>Equipped with an eye-catching upper, this Air ...</td>\n",
       "      <td>2281</td>\n",
       "      <td>305</td>\n",
       "      <td>Air Foamposite One</td>\n",
       "      <td>...</td>\n",
       "      <td>0</td>\n",
       "      <td>0</td>\n",
       "      <td>0</td>\n",
       "      <td>0</td>\n",
       "      <td>0</td>\n",
       "      <td>0</td>\n",
       "      <td>Nike Air Foamposite One</td>\n",
       "      <td>82.0</td>\n",
       "      <td>32.0</td>\n",
       "      <td>79.156250</td>\n",
       "    </tr>\n",
       "    <tr>\n",
       "      <td>4</td>\n",
       "      <td>314996-101</td>\n",
       "      <td>Nike Air Foamposite One Snakeskin</td>\n",
       "      <td>Nike</td>\n",
       "      <td>2019-04-15</td>\n",
       "      <td>220</td>\n",
       "      <td>Sail/Black-Habanero Red-Black</td>\n",
       "      <td>Equipped with an eye-catching upper, this Air ...</td>\n",
       "      <td>2281</td>\n",
       "      <td>305</td>\n",
       "      <td>Air Foamposite One</td>\n",
       "      <td>...</td>\n",
       "      <td>0</td>\n",
       "      <td>0</td>\n",
       "      <td>0</td>\n",
       "      <td>0</td>\n",
       "      <td>0</td>\n",
       "      <td>0</td>\n",
       "      <td>Air Foamposite One Snakeskin</td>\n",
       "      <td>92.0</td>\n",
       "      <td>1.0</td>\n",
       "      <td>92.000000</td>\n",
       "    </tr>\n",
       "  </tbody>\n",
       "</table>\n",
       "<p>5 rows × 45 columns</p>\n",
       "</div>"
      ],
      "text/plain": [
       "   code_style                               name brand        date  \\\n",
       "0  314996-101  Nike Air Foamposite One Snakeskin  Nike  2019-04-15   \n",
       "1  314996-101  Nike Air Foamposite One Snakeskin  Nike  2019-04-15   \n",
       "2  314996-101  Nike Air Foamposite One Snakeskin  Nike  2019-04-15   \n",
       "3  314996-101  Nike Air Foamposite One Snakeskin  Nike  2019-04-15   \n",
       "4  314996-101  Nike Air Foamposite One Snakeskin  Nike  2019-04-15   \n",
       "\n",
       "   retail_price                       colorway  \\\n",
       "0           220  Sail/Black-Habanero Red-Black   \n",
       "1           220  Sail/Black-Habanero Red-Black   \n",
       "2           220  Sail/Black-Habanero Red-Black   \n",
       "3           220  Sail/Black-Habanero Red-Black   \n",
       "4           220  Sail/Black-Habanero Red-Black   \n",
       "\n",
       "                                               story  kof_wants  \\\n",
       "0  Equipped with an eye-catching upper, this Air ...       2281   \n",
       "1  Equipped with an eye-catching upper, this Air ...       2281   \n",
       "2  Equipped with an eye-catching upper, this Air ...       2281   \n",
       "3  Equipped with an eye-catching upper, this Air ...       2281   \n",
       "4  Equipped with an eye-catching upper, this Air ...       2281   \n",
       "\n",
       "   avg_resale_stockx          silhouette  ...  nsw  retro  se  pe  gs  hs  \\\n",
       "0                305  Air Foamposite One  ...    0      0   0   0   0   0   \n",
       "1                305  Air Foamposite One  ...    0      0   0   0   0   0   \n",
       "2                305  Air Foamposite One  ...    0      0   0   0   0   0   \n",
       "3                305  Air Foamposite One  ...    0      0   0   0   0   0   \n",
       "4                305  Air Foamposite One  ...    0      0   0   0   0   0   \n",
       "\n",
       "                          ngram  score  total  avg_score  \n",
       "0           Nike Air Foamposite   73.0   59.0  69.711864  \n",
       "1            Air Foamposite One   71.0   38.0  67.394737  \n",
       "2      Foamposite One Snakeskin   84.0    1.0  84.000000  \n",
       "3       Nike Air Foamposite One   82.0   32.0  79.156250  \n",
       "4  Air Foamposite One Snakeskin   92.0    1.0  92.000000  \n",
       "\n",
       "[5 rows x 45 columns]"
      ]
     },
     "execution_count": 18,
     "metadata": {},
     "output_type": "execute_result"
    }
   ],
   "source": [
    "df.head()"
   ]
  },
  {
   "cell_type": "markdown",
   "metadata": {},
   "source": [
    "## Model Preparation"
   ]
  },
  {
   "cell_type": "markdown",
   "metadata": {},
   "source": [
    "### Identifying target variables"
   ]
  },
  {
   "cell_type": "code",
   "execution_count": 19,
   "metadata": {},
   "outputs": [],
   "source": [
    "def create_targets(a, b):\n",
    "    if a==b:\n",
    "        target = 1\n",
    "    else:\n",
    "        target = 0\n",
    "    return target"
   ]
  },
  {
   "cell_type": "code",
   "execution_count": 20,
   "metadata": {},
   "outputs": [],
   "source": [
    "df['target'] = df.apply(lambda x: create_targets(x['silhouette'], x['ngram']), axis=1)"
   ]
  },
  {
   "cell_type": "markdown",
   "metadata": {},
   "source": [
    "### Encode brand"
   ]
  },
  {
   "cell_type": "code",
   "execution_count": 21,
   "metadata": {},
   "outputs": [],
   "source": [
    "df['brand_code'] = df.groupby(['brand']).ngroup()"
   ]
  },
  {
   "cell_type": "markdown",
   "metadata": {},
   "source": [
    "## Split test-train"
   ]
  },
  {
   "cell_type": "code",
   "execution_count": 22,
   "metadata": {},
   "outputs": [],
   "source": [
    "from sklearn.model_selection import train_test_split"
   ]
  },
  {
   "cell_type": "code",
   "execution_count": 23,
   "metadata": {},
   "outputs": [
    {
     "name": "stdout",
     "output_type": "stream",
     "text": [
      "2020-01-28 23:13:39,299 - numexpr.utils - INFO - NumExpr defaulting to 4 threads.\n"
     ]
    }
   ],
   "source": [
    "data = df[~df.isnull()]"
   ]
  },
  {
   "cell_type": "code",
   "execution_count": 24,
   "metadata": {},
   "outputs": [],
   "source": [
    "X = data[['brand_code', 'score', 'total', 'avg_score']]"
   ]
  },
  {
   "cell_type": "code",
   "execution_count": 25,
   "metadata": {},
   "outputs": [],
   "source": [
    "y=pd.Series(data.target)"
   ]
  },
  {
   "cell_type": "code",
   "execution_count": 26,
   "metadata": {},
   "outputs": [],
   "source": [
    "X_train, X_test, y_train, y_test = train_test_split(X, y, test_size=0.3, random_state=1)"
   ]
  },
  {
   "cell_type": "code",
   "execution_count": 33,
   "metadata": {},
   "outputs": [],
   "source": [
    "X_train = X_train.fillna(X_train.mean())\n",
    "X_test = X_test.fillna(X_test.mean())"
   ]
  },
  {
   "cell_type": "markdown",
   "metadata": {},
   "source": [
    "## LogReg Model"
   ]
  },
  {
   "cell_type": "code",
   "execution_count": 27,
   "metadata": {},
   "outputs": [],
   "source": [
    "from sklearn.linear_model import LogisticRegression\n",
    "from sklearn import metrics"
   ]
  },
  {
   "cell_type": "code",
   "execution_count": 31,
   "metadata": {},
   "outputs": [
    {
     "data": {
      "text/plain": [
       "LogisticRegression(C=1.0, class_weight=None, dual=False, fit_intercept=True,\n",
       "                   intercept_scaling=1, l1_ratio=None, max_iter=100,\n",
       "                   multi_class='auto', n_jobs=None, penalty='l2',\n",
       "                   random_state=None, solver='lbfgs', tol=0.0001, verbose=0,\n",
       "                   warm_start=False)"
      ]
     },
     "execution_count": 31,
     "metadata": {},
     "output_type": "execute_result"
    }
   ],
   "source": [
    "logreg = LogisticRegression()\n",
    "logreg.fit(X_train, y_train)"
   ]
  },
  {
   "cell_type": "code",
   "execution_count": 34,
   "metadata": {},
   "outputs": [
    {
     "name": "stdout",
     "output_type": "stream",
     "text": [
      "Accuracy of logistic regression classifier on test set: 0.97\n"
     ]
    }
   ],
   "source": [
    "y_pred = logreg.predict(X_test)\n",
    "print('Accuracy of logistic regression classifier on test set: {:.2f}'.format(logreg.score(X_test, y_test)))"
   ]
  },
  {
   "cell_type": "code",
   "execution_count": 36,
   "metadata": {},
   "outputs": [
    {
     "data": {
      "text/html": [
       "<div>\n",
       "<style scoped>\n",
       "    .dataframe tbody tr th:only-of-type {\n",
       "        vertical-align: middle;\n",
       "    }\n",
       "\n",
       "    .dataframe tbody tr th {\n",
       "        vertical-align: top;\n",
       "    }\n",
       "\n",
       "    .dataframe thead th {\n",
       "        text-align: right;\n",
       "    }\n",
       "</style>\n",
       "<table border=\"1\" class=\"dataframe\">\n",
       "  <thead>\n",
       "    <tr style=\"text-align: right;\">\n",
       "      <th></th>\n",
       "      <th>0</th>\n",
       "    </tr>\n",
       "  </thead>\n",
       "  <tbody>\n",
       "    <tr>\n",
       "      <td>0</td>\n",
       "      <td>0</td>\n",
       "    </tr>\n",
       "    <tr>\n",
       "      <td>1</td>\n",
       "      <td>0</td>\n",
       "    </tr>\n",
       "    <tr>\n",
       "      <td>2</td>\n",
       "      <td>0</td>\n",
       "    </tr>\n",
       "    <tr>\n",
       "      <td>3</td>\n",
       "      <td>0</td>\n",
       "    </tr>\n",
       "    <tr>\n",
       "      <td>4</td>\n",
       "      <td>0</td>\n",
       "    </tr>\n",
       "    <tr>\n",
       "      <td>...</td>\n",
       "      <td>...</td>\n",
       "    </tr>\n",
       "    <tr>\n",
       "      <td>18692</td>\n",
       "      <td>0</td>\n",
       "    </tr>\n",
       "    <tr>\n",
       "      <td>18693</td>\n",
       "      <td>0</td>\n",
       "    </tr>\n",
       "    <tr>\n",
       "      <td>18694</td>\n",
       "      <td>0</td>\n",
       "    </tr>\n",
       "    <tr>\n",
       "      <td>18695</td>\n",
       "      <td>0</td>\n",
       "    </tr>\n",
       "    <tr>\n",
       "      <td>18696</td>\n",
       "      <td>0</td>\n",
       "    </tr>\n",
       "  </tbody>\n",
       "</table>\n",
       "<p>18697 rows × 1 columns</p>\n",
       "</div>"
      ],
      "text/plain": [
       "       0\n",
       "0      0\n",
       "1      0\n",
       "2      0\n",
       "3      0\n",
       "4      0\n",
       "...   ..\n",
       "18692  0\n",
       "18693  0\n",
       "18694  0\n",
       "18695  0\n",
       "18696  0\n",
       "\n",
       "[18697 rows x 1 columns]"
      ]
     },
     "execution_count": 36,
     "metadata": {},
     "output_type": "execute_result"
    }
   ],
   "source": [
    "pd.DataFrame(y_pred)"
   ]
  },
  {
   "cell_type": "code",
   "execution_count": 45,
   "metadata": {},
   "outputs": [],
   "source": [
    "results = pd.concat([X_test, pd.DataFrame(y_test), pd.DataFrame(y_pred)], axis=1)"
   ]
  },
  {
   "cell_type": "code",
   "execution_count": 49,
   "metadata": {},
   "outputs": [
    {
     "data": {
      "text/html": [
       "<div>\n",
       "<style scoped>\n",
       "    .dataframe tbody tr th:only-of-type {\n",
       "        vertical-align: middle;\n",
       "    }\n",
       "\n",
       "    .dataframe tbody tr th {\n",
       "        vertical-align: top;\n",
       "    }\n",
       "\n",
       "    .dataframe thead th {\n",
       "        text-align: right;\n",
       "    }\n",
       "</style>\n",
       "<table border=\"1\" class=\"dataframe\">\n",
       "  <thead>\n",
       "    <tr style=\"text-align: right;\">\n",
       "      <th></th>\n",
       "      <th>brand_code</th>\n",
       "      <th>score</th>\n",
       "      <th>total</th>\n",
       "      <th>avg_score</th>\n",
       "      <th>target</th>\n",
       "      <th>0</th>\n",
       "    </tr>\n",
       "  </thead>\n",
       "  <tbody>\n",
       "    <tr>\n",
       "      <td>167</td>\n",
       "      <td>1.0</td>\n",
       "      <td>47.0</td>\n",
       "      <td>238.0</td>\n",
       "      <td>51.268908</td>\n",
       "      <td>1.0</td>\n",
       "      <td>0.0</td>\n",
       "    </tr>\n",
       "    <tr>\n",
       "      <td>290</td>\n",
       "      <td>6.0</td>\n",
       "      <td>48.0</td>\n",
       "      <td>14.0</td>\n",
       "      <td>50.714286</td>\n",
       "      <td>1.0</td>\n",
       "      <td>0.0</td>\n",
       "    </tr>\n",
       "    <tr>\n",
       "      <td>346</td>\n",
       "      <td>1.0</td>\n",
       "      <td>62.0</td>\n",
       "      <td>9.0</td>\n",
       "      <td>66.000000</td>\n",
       "      <td>1.0</td>\n",
       "      <td>0.0</td>\n",
       "    </tr>\n",
       "    <tr>\n",
       "      <td>597</td>\n",
       "      <td>1.0</td>\n",
       "      <td>59.0</td>\n",
       "      <td>46.0</td>\n",
       "      <td>63.608696</td>\n",
       "      <td>1.0</td>\n",
       "      <td>0.0</td>\n",
       "    </tr>\n",
       "    <tr>\n",
       "      <td>612</td>\n",
       "      <td>6.0</td>\n",
       "      <td>50.0</td>\n",
       "      <td>93.0</td>\n",
       "      <td>46.322581</td>\n",
       "      <td>1.0</td>\n",
       "      <td>0.0</td>\n",
       "    </tr>\n",
       "    <tr>\n",
       "      <td>...</td>\n",
       "      <td>...</td>\n",
       "      <td>...</td>\n",
       "      <td>...</td>\n",
       "      <td>...</td>\n",
       "      <td>...</td>\n",
       "      <td>...</td>\n",
       "    </tr>\n",
       "    <tr>\n",
       "      <td>62190</td>\n",
       "      <td>1.0</td>\n",
       "      <td>79.0</td>\n",
       "      <td>58.0</td>\n",
       "      <td>64.068966</td>\n",
       "      <td>1.0</td>\n",
       "      <td>NaN</td>\n",
       "    </tr>\n",
       "    <tr>\n",
       "      <td>62203</td>\n",
       "      <td>1.0</td>\n",
       "      <td>67.0</td>\n",
       "      <td>47.0</td>\n",
       "      <td>64.361702</td>\n",
       "      <td>1.0</td>\n",
       "      <td>NaN</td>\n",
       "    </tr>\n",
       "    <tr>\n",
       "      <td>62222</td>\n",
       "      <td>1.0</td>\n",
       "      <td>71.0</td>\n",
       "      <td>18.0</td>\n",
       "      <td>68.388889</td>\n",
       "      <td>1.0</td>\n",
       "      <td>NaN</td>\n",
       "    </tr>\n",
       "    <tr>\n",
       "      <td>62238</td>\n",
       "      <td>1.0</td>\n",
       "      <td>55.0</td>\n",
       "      <td>47.0</td>\n",
       "      <td>62.170213</td>\n",
       "      <td>1.0</td>\n",
       "      <td>NaN</td>\n",
       "    </tr>\n",
       "    <tr>\n",
       "      <td>62282</td>\n",
       "      <td>1.0</td>\n",
       "      <td>58.0</td>\n",
       "      <td>58.0</td>\n",
       "      <td>64.068966</td>\n",
       "      <td>1.0</td>\n",
       "      <td>NaN</td>\n",
       "    </tr>\n",
       "  </tbody>\n",
       "</table>\n",
       "<p>653 rows × 6 columns</p>\n",
       "</div>"
      ],
      "text/plain": [
       "       brand_code  score  total  avg_score  target    0\n",
       "167           1.0   47.0  238.0  51.268908     1.0  0.0\n",
       "290           6.0   48.0   14.0  50.714286     1.0  0.0\n",
       "346           1.0   62.0    9.0  66.000000     1.0  0.0\n",
       "597           1.0   59.0   46.0  63.608696     1.0  0.0\n",
       "612           6.0   50.0   93.0  46.322581     1.0  0.0\n",
       "...           ...    ...    ...        ...     ...  ...\n",
       "62190         1.0   79.0   58.0  64.068966     1.0  NaN\n",
       "62203         1.0   67.0   47.0  64.361702     1.0  NaN\n",
       "62222         1.0   71.0   18.0  68.388889     1.0  NaN\n",
       "62238         1.0   55.0   47.0  62.170213     1.0  NaN\n",
       "62282         1.0   58.0   58.0  64.068966     1.0  NaN\n",
       "\n",
       "[653 rows x 6 columns]"
      ]
     },
     "execution_count": 49,
     "metadata": {},
     "output_type": "execute_result"
    }
   ],
   "source": [
    "results[results['target']==1]"
   ]
  }
 ],
 "metadata": {
  "kernelspec": {
   "display_name": "Python 3",
   "language": "python",
   "name": "python3"
  },
  "language_info": {
   "codemirror_mode": {
    "name": "ipython",
    "version": 3
   },
   "file_extension": ".py",
   "mimetype": "text/x-python",
   "name": "python",
   "nbconvert_exporter": "python",
   "pygments_lexer": "ipython3",
   "version": "3.6.9"
  }
 },
 "nbformat": 4,
 "nbformat_minor": 2
}
