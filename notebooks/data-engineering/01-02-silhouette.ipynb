{
 "cells": [
  {
   "cell_type": "code",
   "execution_count": 1,
   "metadata": {},
   "outputs": [
    {
     "name": "stdout",
     "output_type": "stream",
     "text": [
      "2019-12-07 21:41:35,475 - root - INFO - ** Kedro project sneakairs\n",
      "2019-12-07 21:41:35,476 - root - INFO - Defined global variable context\n"
     ]
    }
   ],
   "source": [
    "%reload_kedro"
   ]
  },
  {
   "cell_type": "code",
   "execution_count": 2,
   "metadata": {},
   "outputs": [],
   "source": [
    "import pandas as pd\n",
    "from pathlib import Path"
   ]
  },
  {
   "cell_type": "code",
   "execution_count": 3,
   "metadata": {},
   "outputs": [
    {
     "name": "stdout",
     "output_type": "stream",
     "text": [
      "2019-12-07 21:41:35,516 - kedro.io.data_catalog - INFO - Loading data from `01_adidas_silhouette` (TextLocalDataSet)...\n",
      "2019-12-07 21:41:35,531 - kedro.io.data_catalog - INFO - Loading data from `01_asics_silhouette` (TextLocalDataSet)...\n",
      "2019-12-07 21:41:35,551 - kedro.io.data_catalog - INFO - Loading data from `01_converse_silhouette` (TextLocalDataSet)...\n",
      "2019-12-07 21:41:35,568 - kedro.io.data_catalog - INFO - Loading data from `01_jordan_silhouette` (TextLocalDataSet)...\n",
      "2019-12-07 21:41:35,588 - kedro.io.data_catalog - INFO - Loading data from `01_newbalance_silhouette` (TextLocalDataSet)...\n",
      "2019-12-07 21:41:35,608 - kedro.io.data_catalog - INFO - Loading data from `01_nike_silhouette` (TextLocalDataSet)...\n",
      "2019-12-07 21:41:35,630 - kedro.io.data_catalog - INFO - Loading data from `01_puma_silhouette` (TextLocalDataSet)...\n",
      "2019-12-07 21:41:35,648 - kedro.io.data_catalog - INFO - Loading data from `01_reebok_silhouette` (TextLocalDataSet)...\n",
      "2019-12-07 21:41:35,662 - kedro.io.data_catalog - INFO - Loading data from `01_vans_silhouette` (TextLocalDataSet)...\n"
     ]
    }
   ],
   "source": [
    "adidas = context.io.load('01_adidas_silhouette').split(sep='\\n')\n",
    "asics = context.io.load('01_asics_silhouette').split(sep='\\n')\n",
    "converse = context.io.load('01_converse_silhouette').split(sep='\\n')\n",
    "jordan = context.io.load('01_jordan_silhouette').split(sep='\\n')\n",
    "newbalance = context.io.load('01_newbalance_silhouette').split(sep='\\n')\n",
    "nike = context.io.load('01_nike_silhouette').split(sep='\\n')\n",
    "puma = context.io.load('01_puma_silhouette').split(sep='\\n')\n",
    "reebok = context.io.load('01_reebok_silhouette').split(sep='\\n')\n",
    "vans = context.io.load('01_vans_silhouette').split(sep='\\n')"
   ]
  },
  {
   "cell_type": "code",
   "execution_count": 4,
   "metadata": {},
   "outputs": [],
   "source": [
    "text_files = [adidas, asics, converse, jordan, newbalance, nike, puma, reebok, vans]\n",
    "brands = ['adidas', 'asics', 'converse', 'jordan', 'new-balance', 'nike', 'puma', 'reebok', 'vans']"
   ]
  },
  {
   "cell_type": "code",
   "execution_count": 5,
   "metadata": {},
   "outputs": [],
   "source": [
    "def txt_2_dict(x):\n",
    "    silhouette_dict = {}\n",
    "    current_key = None\n",
    "    for i in range(len(x)):\n",
    "        try:\n",
    "            silhouette = eval(x[i])\n",
    "        except:\n",
    "            silhouette = x[i]\n",
    "        if isinstance(silhouette, list):\n",
    "            current_key = silhouette[0]\n",
    "            silhouette_dict[current_key] = []\n",
    "        else:\n",
    "            silhouette_dict[current_key].append(silhouette)\n",
    "    return silhouette_dict"
   ]
  },
  {
   "cell_type": "code",
   "execution_count": 6,
   "metadata": {},
   "outputs": [],
   "source": [
    "def remove_duplicates(x):\n",
    "    for key in x:\n",
    "        silhouettes = x[key]\n",
    "        silhouettes = list(set(silhouettes))\n",
    "        x[key] = silhouettes\n",
    "    return x"
   ]
  },
  {
   "cell_type": "code",
   "execution_count": 7,
   "metadata": {},
   "outputs": [],
   "source": [
    "def dict_2_df(dictionary, brand):    \n",
    "    df = pd.DataFrame(data=list(dictionary.keys()), columns=['sneaker_line'])\n",
    "    df['silhouettes'] = df['sneaker_line'].apply(lambda x: dictionary[x])\n",
    "    df = df.explode('silhouettes')\n",
    "    df['brand'] = brand\n",
    "    df = df.reset_index(drop=True)\n",
    "    return df"
   ]
  },
  {
   "cell_type": "code",
   "execution_count": 8,
   "metadata": {},
   "outputs": [],
   "source": [
    "for i in range(len(text_files)):\n",
    "    text = text_files[i]\n",
    "    brand = brands[i]\n",
    "    \n",
    "    output = txt_2_dict(text)\n",
    "    output = remove_duplicates(output)\n",
    "    output = dict_2_df(output, brand)\n",
    "    \n",
    "    file_path = 'data/02_intermediate/' + brand + '-silhouette.csv'\n",
    "    output.to_csv(Path(file_path), index=False)"
   ]
  },
  {
   "cell_type": "code",
   "execution_count": 9,
   "metadata": {},
   "outputs": [],
   "source": [
    "for i in range(len(text_files)):\n",
    "    text = text_files[i]\n",
    "    brand = brands[i]\n",
    "    \n",
    "    output = txt_2_dict(text)\n",
    "    output = remove_duplicates(output)\n",
    "    \n",
    "    file_path = 'data/02_intermediate/' + brand + '-silhouette.txt'\n",
    "    file = open(Path(file_path),\"w+\")\n",
    "    file.write(str(output))\n",
    "    file.close()"
   ]
  },
  {
   "cell_type": "code",
   "execution_count": 10,
   "metadata": {},
   "outputs": [],
   "source": [
    "all_silhouettes = []\n",
    "for i in range(len(text_files)):\n",
    "    text = text_files[i]    \n",
    "    output = txt_2_dict(text)\n",
    "    output = remove_duplicates(output)\n",
    "    output = list(output.values())\n",
    "    for j in range(len(output)):\n",
    "        all_silhouettes.extend(output[j])\n",
    "all_silhouettes = list(set(all_silhouettes))\n",
    "all_silhouettes.remove('')\n",
    "file_path = 'data/02_intermediate/all-silhouettes.txt'\n",
    "file = open(Path(file_path),\"w+\")\n",
    "file.write(str(all_silhouettes))\n",
    "file.close()"
   ]
  },
  {
   "cell_type": "code",
   "execution_count": null,
   "metadata": {},
   "outputs": [],
   "source": []
  }
 ],
 "metadata": {
  "kernelspec": {
   "display_name": "Python 3",
   "language": "python",
   "name": "python3"
  },
  "language_info": {
   "codemirror_mode": {
    "name": "ipython",
    "version": 3
   },
   "file_extension": ".py",
   "mimetype": "text/x-python",
   "name": "python",
   "nbconvert_exporter": "python",
   "pygments_lexer": "ipython3",
   "version": "3.6.9"
  }
 },
 "nbformat": 4,
 "nbformat_minor": 2
}
